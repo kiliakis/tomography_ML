{
 "cells": [
  {
   "cell_type": "code",
   "execution_count": 1,
   "metadata": {},
   "outputs": [],
   "source": [
    "# Needed to reload modified modules\n",
    "%load_ext autoreload\n",
    "%autoreload 2"
   ]
  },
  {
   "cell_type": "code",
   "execution_count": 2,
   "metadata": {},
   "outputs": [
    {
     "name": "stderr",
     "output_type": "stream",
     "text": [
      "2023-07-03 18:58:41.128629: I tensorflow/core/platform/cpu_feature_guard.cc:193] This TensorFlow binary is optimized with oneAPI Deep Neural Network Library (oneDNN) to use the following CPU instructions in performance-critical operations:  AVX2 AVX512F AVX512_VNNI FMA\n",
      "To enable them in other operations, rebuild TensorFlow with the appropriate compiler flags.\n",
      "2023-07-03 18:58:47.343783: I tensorflow/core/util/port.cc:104] oneDNN custom operations are on. You may see slightly different numerical results due to floating-point round-off errors from different computation orders. To turn them off, set the environment variable `TF_ENABLE_ONEDNN_OPTS=0`.\n",
      "2023-07-03 18:58:48.219440: W tensorflow/compiler/xla/stream_executor/platform/default/dso_loader.cc:64] Could not load dynamic library 'libcudart.so.11.0'; dlerror: libcudart.so.11.0: cannot open shared object file: No such file or directory; LD_LIBRARY_PATH: /home/kiliakis/install/anaconda3/lib:/home/kiliakis/install/lib\n",
      "2023-07-03 18:58:48.219459: I tensorflow/compiler/xla/stream_executor/cuda/cudart_stub.cc:29] Ignore above cudart dlerror if you do not have a GPU set up on your machine.\n",
      "2023-07-03 18:59:04.471770: W tensorflow/compiler/xla/stream_executor/platform/default/dso_loader.cc:64] Could not load dynamic library 'libnvinfer.so.7'; dlerror: libnvinfer.so.7: cannot open shared object file: No such file or directory; LD_LIBRARY_PATH: /home/kiliakis/install/anaconda3/lib:/home/kiliakis/install/lib\n",
      "2023-07-03 18:59:04.471856: W tensorflow/compiler/xla/stream_executor/platform/default/dso_loader.cc:64] Could not load dynamic library 'libnvinfer_plugin.so.7'; dlerror: libnvinfer_plugin.so.7: cannot open shared object file: No such file or directory; LD_LIBRARY_PATH: /home/kiliakis/install/anaconda3/lib:/home/kiliakis/install/lib\n",
      "2023-07-03 18:59:04.471860: W tensorflow/compiler/tf2tensorrt/utils/py_utils.cc:38] TF-TRT Warning: Cannot dlopen some TensorRT libraries. If you would like to use Nvidia GPU with TensorRT, please make sure the missing libraries mentioned above are installed properly.\n"
     ]
    }
   ],
   "source": [
    "# Evaluate the ML model\n",
    "import os\n",
    "import time\n",
    "\n",
    "import numpy as np\n",
    "import matplotlib.pyplot as plt\n",
    "from utils import sample_files, decoder_files_to_tensors\n",
    "from utils import decoder_files_to_tensors\n",
    "from models import Decoder\n",
    "# from local_utils import get_best_model_timestamp\n",
    "\n",
    "# data_dir = '/eos/user/k/kiliakis/tomo_data/datasets_decoder_02-12-22'\n",
    "data_dir = './tomo_data/datasets_decoder_TF_24-03-23'\n",
    "dataset_percent = 0.01\n",
    "normalization = 'minmax'\n",
    "ps_normalize = 'off'\n",
    "\n",
    "var_names = ['phEr', 'enEr', 'bl',\n",
    "             'inten', 'Vrf', 'mu', 'VrfSPS']\n",
    "\n",
    "# timestamp = '2023_03_09_16-09-44'\n",
    "timestamp = 'best_decoder_TF'\n",
    "\n"
   ]
  },
  {
   "cell_type": "code",
   "execution_count": 3,
   "metadata": {},
   "outputs": [
    {
     "name": "stderr",
     "output_type": "stream",
     "text": [
      "2023-07-03 18:59:37.500417: W tensorflow/compiler/xla/stream_executor/platform/default/dso_loader.cc:64] Could not load dynamic library 'libcuda.so.1'; dlerror: libcuda.so.1: cannot open shared object file: No such file or directory; LD_LIBRARY_PATH: /home/kiliakis/install/anaconda3/lib:/home/kiliakis/install/lib\n",
      "2023-07-03 18:59:37.512774: W tensorflow/compiler/xla/stream_executor/cuda/cuda_driver.cc:265] failed call to cuInit: UNKNOWN ERROR (303)\n",
      "2023-07-03 18:59:37.512808: I tensorflow/compiler/xla/stream_executor/cuda/cuda_diagnostics.cc:156] kernel driver does not appear to be running on this host (sy153): /proc/driver/nvidia/version does not exist\n",
      "2023-07-03 18:59:37.549660: I tensorflow/core/platform/cpu_feature_guard.cc:193] This TensorFlow binary is optimized with oneAPI Deep Neural Network Library (oneDNN) to use the following CPU instructions in performance-critical operations:  AVX2 AVX512F AVX512_VNNI FMA\n",
      "To enable them in other operations, rebuild TensorFlow with the appropriate compiler flags.\n"
     ]
    },
    {
     "name": "stdout",
     "output_type": "stream",
     "text": [
      "Elapsed time: 47.778, Per file: 0.163\n"
     ]
    }
   ],
   "source": [
    "# Initialize train/ test / validation paths\n",
    "ML_dir = os.path.join(data_dir, 'ML_data')\n",
    "TESTING_PATH = os.path.join(ML_dir, 'TESTING')\n",
    "assert os.path.exists(TESTING_PATH)\n",
    "\n",
    "\n",
    "# First the training data\n",
    "file_names = sample_files(TESTING_PATH, dataset_percent)\n",
    "\n",
    "start_t = time.time()\n",
    "# read input, divide in features/ label, create tensors\n",
    "x_test, y_test = decoder_files_to_tensors(\n",
    "    file_names, normalization=normalization, ps_normalize=ps_normalize)\n",
    "total_time = time.time() - start_t\n",
    "print(\n",
    "    f'Elapsed time: {total_time:.3f}, Per file: {total_time/len(file_names):.3f}')\n",
    "\n"
   ]
  },
  {
   "cell_type": "code",
   "execution_count": 4,
   "metadata": {},
   "outputs": [
    {
     "name": "stdout",
     "output_type": "stream",
     "text": [
      "Decoder:  best_decoder_TF\n"
     ]
    }
   ],
   "source": [
    "# Model to load\n",
    "print('Decoder: ', timestamp)\n",
    "\n",
    "# Initialize directories\n",
    "trial_dir = os.path.join('./trials/', timestamp)\n",
    "weights_dir = os.path.join(trial_dir, 'weights')\n",
    "assert os.path.exists(weights_dir)\n",
    "\n",
    "decoder = Decoder()\n",
    "decoder.load(weights_dir)\n"
   ]
  },
  {
   "cell_type": "code",
   "execution_count": 5,
   "metadata": {},
   "outputs": [
    {
     "name": "stdout",
     "output_type": "stream",
     "text": [
      "Model: \"sequential_1\"\n",
      "_________________________________________________________________\n",
      " Layer (type)                Output Shape              Param #   \n",
      "=================================================================\n",
      " Dense_1 (Dense)             (None, 256)               2304      \n",
      "                                                                 \n",
      " Dense_2 (Dense)             (None, 1024)              263168    \n",
      "                                                                 \n",
      " Expand (Dense)              (None, 8192)              8396800   \n",
      "                                                                 \n",
      " Reshape (Reshape)           (None, 16, 16, 32)        0         \n",
      "                                                                 \n",
      " CNN_1 (Conv2DTranspose)     (None, 32, 32, 32)        82976     \n",
      "                                                                 \n",
      " CNN_2 (Conv2DTranspose)     (None, 64, 64, 16)        41488     \n",
      "                                                                 \n",
      " CNN_3 (Conv2DTranspose)     (None, 128, 128, 8)       10376     \n",
      "                                                                 \n",
      " CNN_final (Conv2DTranspose)  (None, 128, 128, 1)      201       \n",
      "                                                                 \n",
      " final_activation (Activatio  (None, 128, 128, 1)      0         \n",
      " n)                                                              \n",
      "                                                                 \n",
      "=================================================================\n",
      "Total params: 8,797,313\n",
      "Trainable params: 8,797,313\n",
      "Non-trainable params: 0\n",
      "_________________________________________________________________\n"
     ]
    }
   ],
   "source": [
    "decoder.summary()"
   ]
  },
  {
   "cell_type": "code",
   "execution_count": 7,
   "metadata": {},
   "outputs": [],
   "source": [
    "import visualkeras\n",
    "\n",
    "visualkeras.layered_view(decoder.model, to_file=os.path.join(trial_dir, 'decoder-visual.png'), \n",
    "                         legend=True, index_ignore=[], max_z=100, max_xy=400, draw_volume=True).show()"
   ]
  },
  {
   "cell_type": "code",
   "execution_count": null,
   "metadata": {},
   "outputs": [],
   "source": [
    "from models import Encoder\n"
   ]
  },
  {
   "cell_type": "code",
   "execution_count": null,
   "metadata": {},
   "outputs": [],
   "source": [
    "# drop column from y_train, y_valid\n",
    "# x_test_red = tf.concat([tf.expand_dims(tf.gather(x_test, i, axis=1), axis=1)\n",
    "#                      for i in train_cfg['loss_weights']], -1)\n",
    "# print('x_test shape: ', x_test_red.shape)"
   ]
  },
  {
   "cell_type": "code",
   "execution_count": null,
   "metadata": {},
   "outputs": [],
   "source": [
    "# Evaluate the model on the test and validation data\n",
    "test_loss = decoder.model.evaluate(x_test, y_test)\n",
    "print(f'Test loss: {test_loss:.4e}')\n",
    "\n",
    "# get predictions\n",
    "test_pred = decoder.model.predict(x_test, verbose=False)\n",
    "y_test = np.array(y_test)\n",
    "\n",
    "# Calculate error per variable\n",
    "# mses = mean_squared_error(y_test, test_pred, multioutput='raw_values')\n",
    "\n",
    "# valid_loss = decoder.evaluate(x_valid, y_valid)\n",
    "# print(f'Valid loss: {valid_loss:.4e}')\n",
    "# valid_pred = decoder.predict(x_valid, verbose=False)"
   ]
  },
  {
   "cell_type": "code",
   "execution_count": null,
   "metadata": {},
   "outputs": [],
   "source": [
    "%matplotlib inline\n",
    "\n",
    "print(np.max(y_test))\n",
    "print(np.min(y_test))\n",
    "mse_image = np.mean((y_test - test_pred) ** 2, axis=0)\n",
    "mse_image = mse_image.reshape((128, 128))\n",
    "\n",
    "me_image = np.mean(np.abs(y_test - test_pred), axis=0)\n",
    "me_image = me_image.reshape((128, 128))\n",
    "\n",
    "# Create 3x3 grid of figures\n",
    "fig, ax = plt.subplots(ncols=1, nrows=1, figsize=(10, 8))\n",
    "\n",
    "ax.set_xticks([])\n",
    "ax.set_yticks([])\n",
    "# show the image\n",
    "plt.imshow(me_image, cmap='jet', aspect='auto')\n",
    "plt.colorbar()\n",
    "# Set the label\n",
    "# title = ','.join([f'{num:.1f}' for num in samples_X[i]])\n",
    "ax.set_title(f'Mean Diff.')\n",
    "\n",
    "# for i in range(len(axes)):\n",
    "#     ax = axes[i]\n"
   ]
  },
  {
   "cell_type": "code",
   "execution_count": null,
   "metadata": {},
   "outputs": [],
   "source": [
    "%matplotlib inline\n",
    "# plot some of the outputs\n",
    "\n",
    "nrows = 5\n",
    "# Get nrows * nrows random images\n",
    "sample = np.random.choice(np.arange(len(y_test)),\n",
    "                          size=nrows, replace=False)\n",
    "\n",
    "samples_real = y_test[sample]\n",
    "samples_pred = test_pred[sample]\n",
    "\n",
    "# Create 3x3 grid of figures\n",
    "fig, axes = plt.subplots(ncols=3, nrows=nrows, figsize=(12, 20))\n",
    "# axes = np.ravel(axes)\n",
    "for i in range(nrows):\n",
    "    ax = axes[i][0]\n",
    "    plt.sca(ax)\n",
    "    ax.set_xticks([])\n",
    "    ax.set_yticks([])\n",
    "    # show the image\n",
    "    ax.imshow(samples_real[i], cmap='jet')\n",
    "    # Set the label\n",
    "    # title = ','.join([f'{num:.1f}' for num in samples_X[i]])\n",
    "    ax.set_title(f'True')\n",
    "    plt.tight_layout()\n",
    "\n",
    "    ax = axes[i][1]\n",
    "    plt.sca(ax)\n",
    "    ax.set_xticks([])\n",
    "    ax.set_yticks([])\n",
    "    # show the image\n",
    "    ax.imshow(samples_pred[i], cmap='jet')\n",
    "    # Set the label\n",
    "    # title = ','.join([f'{num:.1f}' for num in samples_X[i]])\n",
    "    ax.set_title(f'Predicted')\n",
    "    plt.tight_layout()\n",
    "\n",
    "    ax = axes[i][2]\n",
    "    plt.sca(ax)\n",
    "    ax.set_xticks([])\n",
    "    ax.set_yticks([])\n",
    "    # show the image\n",
    "    plt.imshow(np.abs(samples_real[i] -\n",
    "              samples_pred[i]), cmap='jet', vmin=0, vmax=1,\n",
    "              aspect='auto')\n",
    "    plt.colorbar()\n",
    "    # Set the label\n",
    "    # title = ','.join([f'{num:.1f}' for num in samples_X[i]])\n",
    "    ax.set_title(f'Diff')\n",
    "    plt.tight_layout()\n"
   ]
  }
 ],
 "metadata": {
  "kernelspec": {
   "display_name": "Python 3.9.7 ('base')",
   "language": "python",
   "name": "python3"
  },
  "language_info": {
   "codemirror_mode": {
    "name": "ipython",
    "version": 3
   },
   "file_extension": ".py",
   "mimetype": "text/x-python",
   "name": "python",
   "nbconvert_exporter": "python",
   "pygments_lexer": "ipython3",
   "version": "3.9.13"
  },
  "orig_nbformat": 4,
  "vscode": {
   "interpreter": {
    "hash": "79ab8fd01a8cec42884b8b2a5d7fb4751c5402d97e9e61d151ed5c6a6352873c"
   }
  }
 },
 "nbformat": 4,
 "nbformat_minor": 2
}
