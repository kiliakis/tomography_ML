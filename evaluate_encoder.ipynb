{
 "cells": [
  {
   "cell_type": "code",
   "execution_count": null,
   "metadata": {},
   "outputs": [],
   "source": [
    "# Evaluate the ML model\n",
    "\n",
    "import tensorflow as tf\n",
    "from tensorflow import keras\n",
    "import os\n",
    "import glob\n",
    "import numpy as np\n",
    "from sklearn.metrics import mean_squared_error\n",
    "import matplotlib.pyplot as plt\n",
    "import matplotlib as mpl\n",
    "from utils import plot_loss, encoder_files_to_tensors, get_best_model_timestamp\n",
    "from utils import load_model_data_new, unnormalize_params, assess_decoder\n",
    "from utils import sample_files\n",
    "from models import Encoder, mse_loss_encoder, mse_loss_decoder\n",
    "\n",
    "data_dir = '/eos/kiliakis/tomo_data/datasets'\n",
    "dataset_percent = 0.02\n",
    "normalization = 'minmax'\n",
    "num_Turns_Case = 50+1"
   ]
  },
  {
   "cell_type": "code",
   "execution_count": null,
   "metadata": {},
   "outputs": [],
   "source": [
    "# Initialize parameters\n",
    "import time\n",
    "\n",
    "# Initialize train/ test / validation paths\n",
    "ML_dir = os.path.join(data_dir, 'ML_data')\n",
    "TESTING_PATH = os.path.join(ML_dir, 'TESTING')\n",
    "assert os.path.exists(TESTING_PATH)\n",
    "\n",
    "\n",
    "# First the training data\n",
    "file_names = sample_files(TESTING_PATH, dataset_percent, keep_every=num_Turns_Case)\n",
    "\n",
    "start_t = time.time()\n",
    "# read input, divide in features/ label, create tensors\n",
    "x_test, y_test = encoder_files_to_tensors(file_names, normalization=normalization)\n",
    "total_time = time.time() - start_t\n",
    "print(f'Elapsed time: {total_time:.3f}, Per file: {total_time/len(file_names):.3f}')\n"
   ]
  },
  {
   "cell_type": "code",
   "execution_count": null,
   "metadata": {},
   "outputs": [],
   "source": [
    "# Model to load\n",
    "# timestamp = '2022_09_16_15-30-35'\n",
    "# timestamp = '2022_09_19_09-41-03'\n",
    "# timestamp = get_best_model_timestamp('./trials', model='enc')\n",
    "# timestamp = '2022_10_07_15-19-00'\n",
    "timestamp = '2022_10_03_09-09-58'\n",
    "\n",
    "print(timestamp)\n",
    "\n",
    "# Initialize directories\n",
    "trial_dir = os.path.join('./trials/', timestamp)\n",
    "weights_dir = os.path.join(trial_dir, 'weights')\n",
    "plots_dir = os.path.join(trial_dir, 'plots')\n",
    "assert os.path.exists(weights_dir)\n",
    "os.makedirs(plots_dir, exist_ok=True)\n",
    "\n",
    "# load the model\n",
    "encoder = keras.models.load_model(os.path.join(weights_dir, 'encoder.h5'))\n"
   ]
  },
  {
   "cell_type": "code",
   "execution_count": null,
   "metadata": {},
   "outputs": [],
   "source": [
    "\n",
    "# Evaluate the model on the test and validation data\n",
    "\n",
    "test_loss = encoder.evaluate(x_test, y_test)\n",
    "print(f'Test loss: {test_loss:.3f}')\n",
    "# valid_loss = encoder.evaluate(x_valid, y_valid)\n",
    "# print(f'Valid loss: {valid_loss:.3f}')\n",
    "\n",
    "# get predictions\n",
    "test_pred = encoder.predict(x_test, verbose=False)\n",
    "# valid_pred = encoder.predict(x_valid, verbose=False)\n",
    "y_test = np.array(y_test)\n",
    "\n",
    "# Calculate error per variable\n",
    "mses = mean_squared_error(y_test, test_pred, multioutput='raw_values')\n"
   ]
  },
  {
   "cell_type": "code",
   "execution_count": null,
   "metadata": {},
   "outputs": [],
   "source": [
    "var_names = ['phase_error', 'energy_error',\n",
    "             'bunch_length', 'intensity', 'Volt_rf', 'mu', 'Vrf_SPS']\n",
    "# report\n",
    "print('Variable\\tMSE')\n",
    "for name, mse in zip(var_names, mses):\n",
    "    print(f'{name}:\\t{mse:.4f}')\n"
   ]
  },
  {
   "cell_type": "code",
   "execution_count": null,
   "metadata": {},
   "outputs": [],
   "source": [
    "# Also generate MSE histogram\n",
    "# print(valid_pred.shape)\n",
    "square_errors = ((y_test - test_pred) * (y_test - test_pred))\n",
    "\n",
    "fig, axes = plt.subplots(ncols=1, nrows=len(var_names), sharex=False, \n",
    "sharey=True, figsize=(8, 16))\n",
    "for i, name in enumerate(var_names):\n",
    "    hist,edges = np.histogram(square_errors[:, i], bins=10, density=False)\n",
    "    hist = hist / len(square_errors[:, i])\n",
    "    print(name, hist)\n",
    "    ax = axes[i]\n",
    "    plt.sca(ax)\n",
    "    plt.bar(np.arange(len(hist)), hist, width=0.8)\n",
    "    plt.title(name)\n",
    "    edges = [f'{e:.4f}' for e in edges]\n",
    "    plt.xticks(np.arange(len(hist)), edges[1:])\n",
    "    plt.xlabel('Error')\n",
    "    plt.ylabel('Density')\n",
    "    plt.tight_layout()\n"
   ]
  },
  {
   "cell_type": "code",
   "execution_count": null,
   "metadata": {},
   "outputs": [],
   "source": [
    "\n",
    "y_test_unnorm = unnormalize_params(\n",
    "    y_test[:, 0], y_test[:, 1], y_test[:, 2],\n",
    "    y_test[:, 3], y_test[:, 4], y_test[:, 5],\n",
    "    y_test[:, 6], normalization=normalization)\n",
    "\n",
    "y_pred_unnorm = unnormalize_params(\n",
    "    test_pred[:, 0], test_pred[:, 1], test_pred[:, 2],\n",
    "    test_pred[:, 3], test_pred[:, 4], test_pred[:, 5],\n",
    "    test_pred[:, 6], normalization=normalization)\n",
    "\n",
    "diffs = np.array(y_pred_unnorm).T - np.array(y_test_unnorm).T\n",
    "print(diffs.shape)\n",
    "fig, axes = plt.subplots(ncols=1, nrows=len(var_names), sharex=False,\n",
    "                         sharey=True, figsize=(8, 16))\n",
    "fig.suptitle(f'Model id: {timestamp}')\n",
    "\n",
    "plt.sca(axes[0])\n",
    "plt.hist(diffs[:, 0], bins=100, range=(-50, 50))\n",
    "plt.xlabel('Phase Error Diff [deg]')\n",
    "plt.sca(axes[1])\n",
    "plt.hist(diffs[:, 1], bins=100, range=(-100, 100))\n",
    "plt.xlabel('Energy Error Diff [MeV]')\n",
    "plt.sca(axes[2])\n",
    "plt.hist(diffs[:, 2]*1e12, bins=100, range=(-500, 500))\n",
    "plt.xlabel('Bunch length Diff [ps]')\n",
    "plt.sca(axes[3])\n",
    "plt.hist(diffs[:, 3]*1e-10, bins=100, range=(-10.5, 10.5))\n",
    "plt.xlabel('Intensity diff [1e9 prot]')\n",
    "plt.sca(axes[4])\n",
    "plt.hist(diffs[:, 4], bins=100, range=(-0.3, 0.3))\n",
    "plt.xlabel('V_rf diff [MV]')\n",
    "plt.sca(axes[5])\n",
    "plt.hist(diffs[:, 5], bins=100, range=(-0.5, 0.5))\n",
    "plt.xlabel('mu diff [a.u.]')\n",
    "plt.sca(axes[6])\n",
    "plt.hist(diffs[:, 6], bins=100, range=(-2, 2))\n",
    "plt.xlabel('V_rf SPS diff [MV]')\n",
    "plt.tight_layout()\n",
    "\n"
   ]
  },
  {
   "cell_type": "code",
   "execution_count": null,
   "metadata": {},
   "outputs": [],
   "source": []
  }
 ],
 "metadata": {
  "kernelspec": {
   "display_name": "Python 3.9.7 ('base')",
   "language": "python",
   "name": "python3"
  },
  "language_info": {
   "codemirror_mode": {
    "name": "ipython",
    "version": 3
   },
   "file_extension": ".py",
   "mimetype": "text/x-python",
   "name": "python",
   "nbconvert_exporter": "python",
   "pygments_lexer": "ipython3",
   "version": "3.9.7"
  },
  "orig_nbformat": 4,
  "vscode": {
   "interpreter": {
    "hash": "79ab8fd01a8cec42884b8b2a5d7fb4751c5402d97e9e61d151ed5c6a6352873c"
   }
  }
 },
 "nbformat": 4,
 "nbformat_minor": 2
}
