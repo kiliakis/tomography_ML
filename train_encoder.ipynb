{
 "cells": [
  {
   "cell_type": "code",
   "execution_count": 3,
   "metadata": {},
   "outputs": [],
   "source": [
    "%load_ext autoreload\n",
    "%autoreload 2\n"
   ]
  },
  {
   "cell_type": "code",
   "execution_count": 4,
   "metadata": {},
   "outputs": [],
   "source": [
    "# Train the ML model\n",
    "from utils import sample_files, encoder_files_to_tensors\n",
    "from utils import plot_loss, load_encoder_data\n",
    "from models import Encoder\n",
    "\n",
    "import time\n",
    "import glob\n",
    "import tensorflow as tf\n",
    "from tensorflow import keras\n",
    "import yaml\n",
    "import os\n",
    "import numpy as np\n",
    "from datetime import datetime\n",
    "import argparse\n",
    "import matplotlib.pyplot as plt\n",
    "import matplotlib as mpl\n",
    "num_Turns_Case = 1\n"
   ]
  },
  {
   "cell_type": "code",
   "execution_count": 5,
   "metadata": {},
   "outputs": [
    {
     "name": "stdout",
     "output_type": "stream",
     "text": [
      "Using timestamp:  2022_12_16_09-45-54\n"
     ]
    }
   ],
   "source": [
    "# Initialize parameters\n",
    "data_dir = './tomo_data/datasets_encoder_02-12-22'\n",
    "\n",
    "timestamp = datetime.now().strftime(\"%Y_%m_%d_%H-%M-%S\")\n",
    "print('Using timestamp: ', timestamp)\n",
    "\n"
   ]
  },
  {
   "cell_type": "code",
   "execution_count": 6,
   "metadata": {},
   "outputs": [],
   "source": [
    "# Data specific\n",
    "IMG_OUTPUT_SIZE = 128\n",
    "# BUFFER_SIZE = 256\n",
    "BATCH_SIZE = 32  # 8\n",
    "latent_dim = 7  # 6 + the new VrfSPS\n",
    "# additional_latent_dim = 1\n",
    "\n",
    "# Train specific\n",
    "train_cfg = {\n",
    "    'epochs': 60,\n",
    "    'dense_layers': [64, latent_dim],\n",
    "    'filters': [8, 16, 32],\n",
    "    'cropping': [0, 0],\n",
    "    'kernel_size': [5, 5, 5],\n",
    "    'strides': [2, 2],\n",
    "    'activation': 'relu',\n",
    "    'pooling': None,\n",
    "    'pooling_size': [0, 0],\n",
    "    'pooling_strides': [1, 1],\n",
    "    'pooling_padding': 'valid',\n",
    "    'dropout': 0.,\n",
    "    'loss': 'mse',\n",
    "    'lr': 1e-3,\n",
    "    'dataset%': 1,\n",
    "    'normalization': 'minmax',\n",
    "    'loss_weights': [1, 1, 1, 1, 1, 1, 1],\n",
    "    'batch_size': 32\n",
    "}\n",
    "\n"
   ]
  },
  {
   "cell_type": "code",
   "execution_count": null,
   "metadata": {},
   "outputs": [],
   "source": [
    "# Initialize directories\n",
    "trial_dir = os.path.join('./trials/', timestamp)\n",
    "weights_dir = os.path.join(trial_dir, 'weights')\n",
    "plots_dir = os.path.join(trial_dir, 'plots')\n",
    "\n",
    "# Initialize train/ test / validation paths\n",
    "ML_dir = os.path.join(data_dir, 'ML_data')\n",
    "TRAINING_PATH = os.path.join(ML_dir, 'TRAINING')\n",
    "VALIDATION_PATH = os.path.join(ML_dir, 'VALIDATION')\n",
    "assert os.path.exists(TRAINING_PATH)\n",
    "assert os.path.exists(VALIDATION_PATH)\n",
    "\n",
    "# create the directory to store the results\n",
    "os.makedirs(trial_dir, exist_ok=True)\n",
    "os.makedirs(weights_dir, exist_ok=False)\n",
    "os.makedirs(plots_dir, exist_ok=False)\n",
    "\n",
    "# Initialize GPU\n",
    "gpus = tf.config.experimental.list_physical_devices('GPU')\n",
    "device_to_use = 0\n",
    "\n",
    "if gpus:\n",
    "    try:\n",
    "        # Currently, memory growth needs to be the same across GPUs\n",
    "        tf.config.experimental.set_memory_growth(gpus[device_to_use], True)\n",
    "        tf.config.experimental.set_virtual_device_configuration(\n",
    "            gpus[device_to_use],\n",
    "            [tf.config.experimental.VirtualDeviceConfiguration(memory_limit=12*1024)])\n",
    "        logical_gpus = tf.config.experimental.list_logical_devices('GPU')\n",
    "        print(len(gpus), \"Physical GPUs,\", len(\n",
    "            logical_gpus), \"Logical GPUs\")\n",
    "    except RuntimeError as e:\n",
    "        print(e)\n",
    "else:\n",
    "    print('No GPU available, using the CPU')\n"
   ]
  },
  {
   "cell_type": "code",
   "execution_count": null,
   "metadata": {},
   "outputs": [],
   "source": [
    "start_t = time.time()\n",
    "# Create the datasets\n",
    "# 1. Randomly select the training data\n",
    "file_names = sample_files(\n",
    "    TRAINING_PATH, train_cfg['dataset%'], keep_every=num_Turns_Case)\n",
    "print('Number of Training files: ', len(file_names))\n",
    "\n",
    "x_train, y_train = encoder_files_to_tensors(\n",
    "    file_names, normalization=train_cfg['normalization'])\n",
    "\n",
    "# Repeat for validation data\n",
    "file_names = sample_files(\n",
    "    VALIDATION_PATH, train_cfg['dataset%'], keep_every=num_Turns_Case)\n",
    "print('Number of Validation files: ', len(file_names))\n",
    "\n",
    "x_valid, y_valid = encoder_files_to_tensors(\n",
    "    file_names, normalization=train_cfg['normalization'])\n",
    "\n",
    "end_t = time.time()\n",
    "print(\n",
    "    f'\\n---- Input files have been read, elapsed: {end_t - start_t} ----\\n')\n"
   ]
  },
  {
   "cell_type": "code",
   "execution_count": null,
   "metadata": {},
   "outputs": [],
   "source": [
    "%matplotlib inline\n",
    "# plot some of the outputs\n",
    "\n",
    "nrows = 3\n",
    "# Get nrows * nrows random images\n",
    "sample = np.random.choice(np.arange(len(x_train)),\n",
    "                          size=nrows * nrows, replace=False)\n",
    "\n",
    "samples_X = tf.gather(x_train, sample)\n",
    "samples_y = tf.gather(y_train, sample)\n",
    "\n",
    "# Create 3x3 grid of figures\n",
    "fig, axes = plt.subplots(ncols=nrows, nrows=nrows, figsize=(12, 12))\n",
    "axes = np.ravel(axes)\n",
    "for i in range(len(axes)):\n",
    "    ax = axes[i]\n",
    "    ax.set_xticks([])\n",
    "    ax.set_yticks([])\n",
    "    # show the image\n",
    "    ax.imshow(samples_X[i], cmap='jet')\n",
    "    # Set the label\n",
    "    title = ','.join([f'{num:.1f}' for num in samples_y[i]])\n",
    "    ax.set_title(f'{title}')\n"
   ]
  },
  {
   "cell_type": "code",
   "execution_count": null,
   "metadata": {},
   "outputs": [],
   "source": [
    "# Model instantiation\n",
    "\n",
    "input_shape = (IMG_OUTPUT_SIZE, IMG_OUTPUT_SIZE, 1)\n",
    "\n",
    "encoder = Encoder(input_shape=input_shape, **train_cfg)\n",
    "\n",
    "print(encoder.model.summary())\n",
    "\n"
   ]
  },
  {
   "cell_type": "code",
   "execution_count": null,
   "metadata": {},
   "outputs": [],
   "source": [
    "# Train the encoder\n",
    "\n",
    "# callbacks, save the best model, and early stop if no improvement in val_loss\n",
    "stop_early = keras.callbacks.EarlyStopping(monitor='val_loss',\n",
    "                                           patience=5, restore_best_weights=True)\n",
    "save_best = keras.callbacks.ModelCheckpoint(filepath=os.path.join(weights_dir, 'encoder.h5'),\n",
    "                                            monitor='val_loss', save_best_only=True)\n"
   ]
  },
  {
   "cell_type": "code",
   "execution_count": null,
   "metadata": {},
   "outputs": [],
   "source": [
    "start_time = time.time()\n",
    "# history = encoder.model.fit(\n",
    "#     train_dataset, epochs=train_cfg['epochs'],\n",
    "#     validation_data=valid_dataset,\n",
    "#     callbacks=[stop_early, save_best])\n",
    "history = encoder.model.fit(\n",
    "    x_train, y_train, epochs=train_cfg['epochs'],\n",
    "    validation_data=(x_valid, y_valid), \n",
    "    batch_size=train_cfg['batch_size'],\n",
    "    callbacks=[save_best])\n",
    "\n",
    "total_time = time.time() - start_time\n"
   ]
  },
  {
   "cell_type": "code",
   "execution_count": null,
   "metadata": {},
   "outputs": [],
   "source": [
    "print(history.history)"
   ]
  },
  {
   "cell_type": "code",
   "execution_count": null,
   "metadata": {},
   "outputs": [],
   "source": [
    "from sklearn.metrics import mean_absolute_error\n",
    "\n",
    "from functools import partial\n",
    "\n",
    "\n",
    "def my_mse(y_true, y_pred):\n",
    "    return tf.reduce_mean(tf.math.abs(y_pred - y_true), axis=0)\n",
    "\n",
    "\n",
    "y_true = np.array([[0., 0.], [1., 1.]])\n",
    "y_pred = np.array([[1., 0.5], [2., 1.5]])\n",
    "loss = keras.losses.mean_absolute_error(y_true, y_pred)\n",
    "mae2 = MyMeanAbsoluteError(reduction=keras.losses.Reduction.NONE)\n",
    "mae = keras.losses.MeanAbsoluteError(reduction=keras.losses.Reduction.NONE)\n",
    "lossv2 = mean_absolute_error(y_true, y_pred, multioutput='raw_values')\n",
    "# lossv3 = my_mse(1, y_true, y_pred)\n",
    "# print(loss)\n",
    "# print(mae(y_true, y_pred).numpy())\n",
    "print(lossv2)\n",
    "# print(mae2(y_true, y_pred).numpy())\n",
    "# lossv4 = my_mse(y_true, y_pred)\n",
    "\n",
    "print(my_mse(y_true, y_pred))\n",
    "# print(my_mse(1, y_true, y_pred))\n"
   ]
  },
  {
   "cell_type": "code",
   "execution_count": null,
   "metadata": {},
   "outputs": [],
   "source": [
    "# Plot training and validation loss\n",
    "train_loss_l = np.array(history.history['loss'])\n",
    "valid_loss_l = np.array(history.history['val_loss'])\n",
    "\n",
    "plot_loss({'Training': train_loss_l, 'Validation': valid_loss_l},\n",
    "          title='Encoder Train/Validation Loss',\n",
    "          figname=os.path.join(plots_dir, 'encoder_train_valid_loss.png'))\n"
   ]
  },
  {
   "cell_type": "code",
   "execution_count": null,
   "metadata": {},
   "outputs": [],
   "source": [
    "from sklearn.metrics import mean_squared_error\n",
    "\n",
    "# get predictions\n",
    "y_pred = encoder.model.predict(x_valid, verbose=False)\n",
    "y_valid = np.array(y_valid)\n",
    "\n",
    "# Calculate error per variable\n",
    "mses = mean_squared_error(y_valid, y_pred, multioutput='raw_values')\n",
    "\n",
    "var_names = ['phase_error', 'energy_error',\n",
    "             'bunch_length', 'intensity', 'Volt_rf', 'mu', 'Vrf_SPS']\n",
    "# report\n",
    "print('Variable\\tMSE')\n",
    "for name, mse in zip(var_names, mses):\n",
    "    print(f'{name}:\\t{mse:.4f}')\n"
   ]
  },
  {
   "cell_type": "code",
   "execution_count": null,
   "metadata": {},
   "outputs": [],
   "source": [
    "# save file with experiment configuration\n",
    "config_dict = {}\n",
    "config_dict['encoder'] = train_cfg.copy()\n",
    "config_dict['encoder'].update({\n",
    "    'min_train_loss': float(np.min(train_loss_l)),\n",
    "    'min_valid_loss': float(np.min(valid_loss_l)),\n",
    "    'total_train_time': total_time,\n",
    "    'used_gpus': len(gpus)\n",
    "})\n",
    "\n",
    "# save config_dict\n",
    "with open(os.path.join(trial_dir, 'encoder-summary.yml'), 'w') as configfile:\n",
    "    yaml.dump(config_dict, configfile, default_flow_style=False)\n"
   ]
  },
  {
   "cell_type": "code",
   "execution_count": null,
   "metadata": {},
   "outputs": [],
   "source": []
  }
 ],
 "metadata": {
  "kernelspec": {
   "display_name": "Python 3 (ipykernel)",
   "language": "python",
   "name": "python3"
  },
  "language_info": {
   "codemirror_mode": {
    "name": "ipython",
    "version": 3
   },
   "file_extension": ".py",
   "mimetype": "text/x-python",
   "name": "python",
   "nbconvert_exporter": "python",
   "pygments_lexer": "ipython3",
   "version": "3.9.7"
  },
  "vscode": {
   "interpreter": {
    "hash": "79ab8fd01a8cec42884b8b2a5d7fb4751c5402d97e9e61d151ed5c6a6352873c"
   }
  }
 },
 "nbformat": 4,
 "nbformat_minor": 4
}
